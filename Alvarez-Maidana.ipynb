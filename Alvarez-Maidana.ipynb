{
 "cells": [
  {
   "cell_type": "markdown",
   "metadata": {},
   "source": [
    "Selección de la base de datos\n",
    "\n",
    "Se utilizará la base de datos https://www.kaggle.com/datasets/shaikhabdulrafay03/student-data, la cual contiene datos de una encuesta respondida por alumnos de distintas universidades, en la cual se pidió detallar elementos como: universidad a la que asiste, carrera, tiempo de estudio por día y educación de los padres, entre otras.\n",
    "\n",
    "\n",
    "El objetivo de la red a realizar es, a partir de los datos provistos, poder predecir el rendimiento académico de los alumnos, y determinar qué características influyen en dichos resultados.\n",
    "\n",
    "*Tipos de datos:\n",
    "-Horario de encuesta\n",
    "-Nombre de usuario\n",
    "-Universidad\n",
    "-Carrera\n",
    "-Asistencia promedio a las clases\n",
    "-Tiempo promedio de estudio por día\n",
    "-Actividades extracurriculares\n",
    "-Tiempo de descanso \n",
    "-Número de familiares\n",
    "-Actividad física\n",
    "-Actividad desarrollada en tiempo libre\n",
    "-Miembro de una comunidad universitaria\n",
    "-Estudios máximos alcanzados por los padres\n",
    "-Nota media final"
   ]
  },
  {
   "cell_type": "markdown",
   "metadata": {},
   "source": [
    "ANOTACIONES\n",
    "\n",
    "-El tipo de carrera puede estar relacionado con la nota final (carreras mas dificiles pueden hacer que las notas sean bajas)\n",
    "-Las variables pueden pasarse a valores entre 0 y 1 para trabajarlas más fácil"
   ]
  }
 ],
 "metadata": {
  "language_info": {
   "name": "python"
  }
 },
 "nbformat": 4,
 "nbformat_minor": 2
}
