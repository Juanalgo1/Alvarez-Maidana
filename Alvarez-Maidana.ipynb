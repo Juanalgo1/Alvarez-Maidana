{
 "cells": [
  {
   "cell_type": "markdown",
   "metadata": {},
   "source": [
    "Selección de la base de datos\n",
    "\n",
    "Se utilizará la base de datos https://www.kaggle.com/datasets/rabieelkharoua/students-performance-dataset, la cual contiene datos acerca de estudiantes de escuela secundaria, sus actividades extracurriculares, las horas de estudio, etc. \n",
    "\n",
    "\n",
    "El objetivo de la red a realizar es, a partir de los datos provistos, poder predecir el rendimiento académico de los alumnos, y determinar qué características influyen en dichos resultados.\n",
    "\n",
    "*Tipos de datos:\n",
    "-ID del estudiante\n",
    "-Edad\n",
    "-Género\n",
    "-Etnia\n",
    "-Educación máxima alcanzada por los padres\n",
    "-Horas semanales de estudio\n",
    "-Ausencias\n",
    "-Si reciben tutoría especial\n",
    "-El nivel de apoyo de los padres\n",
    "-Si realiza actividades extracurriculares\n",
    "-Si"
   ]
  },
  {
   "cell_type": "markdown",
   "metadata": {},
   "source": [
    "ANOTACIONES\n",
    "\n",
    "-El tipo de carrera puede estar relacionado con la nota final (carreras mas dificiles pueden hacer que las notas sean bajas)\n",
    "-Las variables pueden pasarse a valores entre 0 y 1 para trabajarlas más fácil"
   ]
  }
 ],
 "metadata": {
  "language_info": {
   "name": "python"
  }
 },
 "nbformat": 4,
 "nbformat_minor": 2
}
