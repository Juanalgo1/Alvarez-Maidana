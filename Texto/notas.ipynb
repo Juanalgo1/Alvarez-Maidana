{
 "cells": [
  {
   "cell_type": "markdown",
   "metadata": {},
   "source": [
    "### Correlaciones\n"
   ]
  },
  {
   "cell_type": "markdown",
   "metadata": {},
   "source": [
    "*\"Lo primero que podemos observar es que las variables que más se relacionan con GPA son las inasistencias y la clasificación según GPA, ambas de forma negativa, lo cual, a simple vista, es lógico. Pareciera ser que, a más inasistencias, menor será el rendimiento. Además, un valor de clasificación bajo, por la forma en que se creó el dataframe, indica un GPA alto.\n",
    "Otra observación posible es que tanto el ID del estudiante, como su edad, género o etnia no influyen en las calificaciones de un alumno.\"*\n",
    "\n",
    "Gracias a esta observación mepa que podemos eliminar directamente la columna ID, no creo que nos sirva para nada en la creación de la red.\n",
    "\n",
    "Tal vez nos sirve a nosotros para identificar un valor atípico en el GPA o algo así pero no creo.\n",
    "\n",
    "\n",
    "Después, con el tema de la edad y el género podríamos hacer un pequeño análisis para ver si influye mucho (la edad oscila entre 15-18 por lo que no tenemos valores extremadamente atípicos).\n",
    "\n",
    "\n",
    "Con respecto a la etnia, podría ser interesante también hacer un pequeño análisis, pero los temas raciales o socioculturales no son el foco de la red, porque podríamos llegar a considerar eliminarla."
   ]
  }
 ],
 "metadata": {
  "language_info": {
   "name": "python"
  }
 },
 "nbformat": 4,
 "nbformat_minor": 2
}
